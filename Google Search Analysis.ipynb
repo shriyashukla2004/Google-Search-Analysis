{
 "cells": [
  {
   "cell_type": "code",
   "execution_count": 1,
   "id": "39291839-c28a-4dad-8645-e0e220a3d8d2",
   "metadata": {},
   "outputs": [
    {
     "name": "stdout",
     "output_type": "stream",
     "text": [
      "Requirement already satisfied: pytrends in c:\\users\\kiit\\anaconda3\\lib\\site-packages (4.9.2)Note: you may need to restart the kernel to use updated packages.\n",
      "\n",
      "Requirement already satisfied: requests>=2.0 in c:\\users\\kiit\\anaconda3\\lib\\site-packages (from pytrends) (2.31.0)\n",
      "Requirement already satisfied: pandas>=0.25 in c:\\users\\kiit\\anaconda3\\lib\\site-packages (from pytrends) (2.1.4)\n",
      "Requirement already satisfied: lxml in c:\\users\\kiit\\anaconda3\\lib\\site-packages (from pytrends) (4.9.3)\n",
      "Requirement already satisfied: numpy<2,>=1.23.2 in c:\\users\\kiit\\anaconda3\\lib\\site-packages (from pandas>=0.25->pytrends) (1.26.4)\n",
      "Requirement already satisfied: python-dateutil>=2.8.2 in c:\\users\\kiit\\anaconda3\\lib\\site-packages (from pandas>=0.25->pytrends) (2.8.2)\n",
      "Requirement already satisfied: pytz>=2020.1 in c:\\users\\kiit\\anaconda3\\lib\\site-packages (from pandas>=0.25->pytrends) (2023.3.post1)\n",
      "Requirement already satisfied: tzdata>=2022.1 in c:\\users\\kiit\\anaconda3\\lib\\site-packages (from pandas>=0.25->pytrends) (2023.3)\n",
      "Requirement already satisfied: charset-normalizer<4,>=2 in c:\\users\\kiit\\anaconda3\\lib\\site-packages (from requests>=2.0->pytrends) (2.0.4)\n",
      "Requirement already satisfied: idna<4,>=2.5 in c:\\users\\kiit\\anaconda3\\lib\\site-packages (from requests>=2.0->pytrends) (3.4)\n",
      "Requirement already satisfied: urllib3<3,>=1.21.1 in c:\\users\\kiit\\anaconda3\\lib\\site-packages (from requests>=2.0->pytrends) (2.0.7)\n",
      "Requirement already satisfied: certifi>=2017.4.17 in c:\\users\\kiit\\anaconda3\\lib\\site-packages (from requests>=2.0->pytrends) (2025.6.15)\n",
      "Requirement already satisfied: six>=1.5 in c:\\users\\kiit\\anaconda3\\lib\\site-packages (from python-dateutil>=2.8.2->pandas>=0.25->pytrends) (1.16.0)\n"
     ]
    }
   ],
   "source": [
    "pip install pytrends"
   ]
  },
  {
   "cell_type": "code",
   "execution_count": 2,
   "id": "775241aa-8045-47c8-ab21-6983d6c9d5bf",
   "metadata": {},
   "outputs": [],
   "source": [
    "#Importing essential Libraries\n",
    "import numpy as np\n",
    "import pandas as pd\n",
    "import matplotlib.pyplot as plt\n",
    "import seaborn as sns\n",
    "import plotly.express as px\n",
    "from pytrends.request import TrendReq"
   ]
  },
  {
   "cell_type": "markdown",
   "id": "c3b6ac00-af17-45bb-a3e8-29dfc0923a6d",
   "metadata": {},
   "source": [
    "Setup pytrend library and define keyword"
   ]
  },
  {
   "cell_type": "code",
   "execution_count": 3,
   "id": "9edd192e-e658-46a7-9d50-2e99fd82e25f",
   "metadata": {},
   "outputs": [],
   "source": [
    "pytrends = TrendReq(hl='en-US', tz=360)\n",
    "keyword = \"artificial intelligence\""
   ]
  },
  {
   "cell_type": "markdown",
   "id": "c7e7a7b4-8cce-45c5-b1b7-56b743b64b3e",
   "metadata": {},
   "source": [
    "Data Request"
   ]
  },
  {
   "cell_type": "code",
   "execution_count": 4,
   "id": "c1aa4fda-6bb1-41ee-aec8-c3862dabec66",
   "metadata": {},
   "outputs": [
    {
     "ename": "TooManyRequestsError",
     "evalue": "The request failed: Google returned a response with code 429",
     "output_type": "error",
     "traceback": [
      "\u001b[1;31m---------------------------------------------------------------------------\u001b[0m",
      "\u001b[1;31mTooManyRequestsError\u001b[0m                      Traceback (most recent call last)",
      "Cell \u001b[1;32mIn[4], line 5\u001b[0m\n\u001b[0;32m      3\u001b[0m pytrends\u001b[38;5;241m.\u001b[39mbuild_payload([keyword], cat\u001b[38;5;241m=\u001b[39m\u001b[38;5;241m0\u001b[39m, timeframe\u001b[38;5;241m=\u001b[39m\u001b[38;5;124m'\u001b[39m\u001b[38;5;124mtoday 12-m\u001b[39m\u001b[38;5;124m'\u001b[39m, geo\u001b[38;5;241m=\u001b[39m\u001b[38;5;124m'\u001b[39m\u001b[38;5;124m'\u001b[39m, gprop\u001b[38;5;241m=\u001b[39m\u001b[38;5;124m'\u001b[39m\u001b[38;5;124m'\u001b[39m)\n\u001b[0;32m      4\u001b[0m time\u001b[38;5;241m.\u001b[39msleep(\u001b[38;5;241m5\u001b[39m)  \u001b[38;5;66;03m# wait 5 seconds before the next request\u001b[39;00m\n\u001b[1;32m----> 5\u001b[0m region_data \u001b[38;5;241m=\u001b[39m pytrends\u001b[38;5;241m.\u001b[39minterest_by_region()\n\u001b[0;32m      6\u001b[0m region_data \u001b[38;5;241m=\u001b[39m region_data\u001b[38;5;241m.\u001b[39msort_values(by \u001b[38;5;241m=\u001b[39m keyword, ascending \u001b[38;5;241m=\u001b[39m \u001b[38;5;28;01mFalse\u001b[39;00m)\u001b[38;5;241m.\u001b[39mhead(\u001b[38;5;241m15\u001b[39m)\n",
      "File \u001b[1;32m~\\anaconda3\\Lib\\site-packages\\pytrends\\request.py:340\u001b[0m, in \u001b[0;36mTrendReq.interest_by_region\u001b[1;34m(self, resolution, inc_low_vol, inc_geo_code)\u001b[0m\n\u001b[0;32m    337\u001b[0m region_payload[\u001b[38;5;124m'\u001b[39m\u001b[38;5;124mtz\u001b[39m\u001b[38;5;124m'\u001b[39m] \u001b[38;5;241m=\u001b[39m \u001b[38;5;28mself\u001b[39m\u001b[38;5;241m.\u001b[39mtz\n\u001b[0;32m    339\u001b[0m \u001b[38;5;66;03m# parse returned json\u001b[39;00m\n\u001b[1;32m--> 340\u001b[0m req_json \u001b[38;5;241m=\u001b[39m \u001b[38;5;28mself\u001b[39m\u001b[38;5;241m.\u001b[39m_get_data(\n\u001b[0;32m    341\u001b[0m     url\u001b[38;5;241m=\u001b[39mTrendReq\u001b[38;5;241m.\u001b[39mINTEREST_BY_REGION_URL,\n\u001b[0;32m    342\u001b[0m     method\u001b[38;5;241m=\u001b[39mTrendReq\u001b[38;5;241m.\u001b[39mGET_METHOD,\n\u001b[0;32m    343\u001b[0m     trim_chars\u001b[38;5;241m=\u001b[39m\u001b[38;5;241m5\u001b[39m,\n\u001b[0;32m    344\u001b[0m     params\u001b[38;5;241m=\u001b[39mregion_payload,\n\u001b[0;32m    345\u001b[0m )\n\u001b[0;32m    346\u001b[0m df \u001b[38;5;241m=\u001b[39m pd\u001b[38;5;241m.\u001b[39mDataFrame(req_json[\u001b[38;5;124m'\u001b[39m\u001b[38;5;124mdefault\u001b[39m\u001b[38;5;124m'\u001b[39m][\u001b[38;5;124m'\u001b[39m\u001b[38;5;124mgeoMapData\u001b[39m\u001b[38;5;124m'\u001b[39m])\n\u001b[0;32m    347\u001b[0m \u001b[38;5;28;01mif\u001b[39;00m (df\u001b[38;5;241m.\u001b[39mempty):\n",
      "File \u001b[1;32m~\\anaconda3\\Lib\\site-packages\\pytrends\\request.py:159\u001b[0m, in \u001b[0;36mTrendReq._get_data\u001b[1;34m(self, url, method, trim_chars, **kwargs)\u001b[0m\n\u001b[0;32m    157\u001b[0m \u001b[38;5;28;01melse\u001b[39;00m:\n\u001b[0;32m    158\u001b[0m     \u001b[38;5;28;01mif\u001b[39;00m response\u001b[38;5;241m.\u001b[39mstatus_code \u001b[38;5;241m==\u001b[39m status_codes\u001b[38;5;241m.\u001b[39mcodes\u001b[38;5;241m.\u001b[39mtoo_many_requests:\n\u001b[1;32m--> 159\u001b[0m         \u001b[38;5;28;01mraise\u001b[39;00m exceptions\u001b[38;5;241m.\u001b[39mTooManyRequestsError\u001b[38;5;241m.\u001b[39mfrom_response(response)\n\u001b[0;32m    160\u001b[0m     \u001b[38;5;28;01mraise\u001b[39;00m exceptions\u001b[38;5;241m.\u001b[39mResponseError\u001b[38;5;241m.\u001b[39mfrom_response(response)\n",
      "\u001b[1;31mTooManyRequestsError\u001b[0m: The request failed: Google returned a response with code 429"
     ]
    }
   ],
   "source": [
    "import time\n",
    "\n",
    "pytrends.build_payload([keyword], cat=0, timeframe='today 12-m', geo='', gprop='')\n",
    "time.sleep(5)  # wait 5 seconds before the next request\n",
    "region_data = pytrends.interest_by_region()\n",
    "region_data = region_data.sort_values(by = keyword, ascending = False).head(15)"
   ]
  },
  {
   "cell_type": "code",
   "execution_count": null,
   "id": "65110de7-4f24-48ea-b7bf-e195619e24e6",
   "metadata": {},
   "outputs": [],
   "source": [
    "plt.figure(figsize = (10,6))\n",
    "sns.barplot(x = region_data[keyword], y = region_data.index, palette = \"Blues_d\")\n",
    "plt.title(f\"Top Countries searching for '{keyword}' \")\n",
    "plt.xlabel(\"Interest\")\n",
    "plt.ylabel(\"Country\")\n",
    "plt.show()"
   ]
  },
  {
   "cell_type": "markdown",
   "id": "3593ec12-5e0d-4c69-9079-b5086a69413f",
   "metadata": {},
   "source": [
    "World Map"
   ]
  },
  {
   "cell_type": "code",
   "execution_count": null,
   "id": "90171ca3-1456-49d3-9ee0-2ec09e84bd30",
   "metadata": {},
   "outputs": [],
   "source": [
    "region_data = region_data.reset_index()\n",
    "fig= px.choropleth(region_data,\n",
    "                   locations = 'geoName',\n",
    "                   locationmode = 'country names',\n",
    "                   color = keyword, title = f\"Search Interest for '{keyword}' by Country\",\n",
    "                   color_continuous_scale= 'Blues')\n",
    "fig.show()"
   ]
  },
  {
   "cell_type": "markdown",
   "id": "e1ab51eb-0798-49c8-9d62-886d317177d1",
   "metadata": {},
   "source": [
    "Time wise interest"
   ]
  },
  {
   "cell_type": "code",
   "execution_count": null,
   "id": "0264f7c6-eedd-4847-a75d-8f3213c41616",
   "metadata": {},
   "outputs": [],
   "source": [
    "time_df = pytrends.interest_over_time()"
   ]
  },
  {
   "cell_type": "code",
   "execution_count": null,
   "id": "aa904aed-5fbf-4a2c-9a46-aa25ba23d5a0",
   "metadata": {},
   "outputs": [],
   "source": [
    "plt.figure(figsize=(12,6))\n",
    "plt.plot(time_df.index, time_df[keyword], marker = 'o', color = 'purple')\n",
    "plt.title(f\"Search interest over time '{keyword}' \")\n",
    "plt.xlabel(\"Date\")\n",
    "plt.ylabel(\"Interest\")\n",
    "plt.grid(True)\n",
    "plt.show()"
   ]
  },
  {
   "cell_type": "markdown",
   "id": "6b1078d0-8ef8-42c4-afdd-f67ed51699a1",
   "metadata": {},
   "source": [
    " Multiple Keyword Compare "
   ]
  },
  {
   "cell_type": "code",
   "execution_count": null,
   "id": "1d869da1-7c5b-4842-bff9-e395995cde35",
   "metadata": {},
   "outputs": [],
   "source": [
    "kw_list = [\"Cloud Computing\", \"Data Analysis\", \"Machine Learning\"]\n",
    "pytrends.build_payload(kw_list, cat = 0, timeframe = 'today 12-m', geo = '', gprop= '')"
   ]
  },
  {
   "cell_type": "code",
   "execution_count": null,
   "id": "cfc8b79c-ace9-49ae-b45d-1b9861e8ba0b",
   "metadata": {},
   "outputs": [],
   "source": [
    "compare_df = pytrends.interest_over_time()\n",
    "\n",
    "plt.figure(figsize=(12,6))\n",
    "for kw in kw_list:\n",
    "    plt.plot(compare_df.index, compare_df[kw], label= kw)\n",
    "\n",
    "plt.title(\"keyword comparison over time\")\n",
    "plt.xlabel(\"Date\")\n",
    "plt.ylabel(\"Interest\")\n",
    "plt.legend()\n",
    "plt.grid(True)\n",
    "plt.tight_layout()\n",
    "plt.show()"
   ]
  }
 ],
 "metadata": {
  "kernelspec": {
   "display_name": "Python 3 (ipykernel)",
   "language": "python",
   "name": "python3"
  },
  "language_info": {
   "codemirror_mode": {
    "name": "ipython",
    "version": 3
   },
   "file_extension": ".py",
   "mimetype": "text/x-python",
   "name": "python",
   "nbconvert_exporter": "python",
   "pygments_lexer": "ipython3",
   "version": "3.11.7"
  }
 },
 "nbformat": 4,
 "nbformat_minor": 5
}
